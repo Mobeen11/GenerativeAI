{
 "cells": [
  {
   "cell_type": "markdown",
   "id": "faf53fff",
   "metadata": {},
   "source": [
    "\n",
    "## Introduction\n",
    "\n",
    "This repository contains code for a demonstration of using Retrieval-Augmented Generation (RAG) for generating advertisements targeting travelers. The code utilizes Pinecone vector database for similarity search, Sentence Transformers for generating embeddings, and Replicate for fine-tuning and generating text based on the provided context.\n",
    "\n",
    "## Requirements\n",
    "\n",
    "Before running the code, make sure you have the following dependencies installed:\n",
    "\n",
    "- Python 3.x\n",
    "- Pinecone\n",
    "- Sentence Transformers\n",
    "- Replicate\n",
    "\n",
    "\n",
    "## Usage\n",
    "\n",
    "1. Set up Pinecone: Obtain an API key from Pinecone and replace the empty string in the code with your API key:\n",
    "\n",
    "    ```python\n",
    "    pc = Pinecone(api_key=\"YOUR_API_KEY_HERE\")\n",
    "    index = pc.Index(\"tourist-index\")\n",
    "    ```\n",
    "\n",
    "2. Set up Replicate: Set your Replicate API token as an environment variable:\n",
    "\n",
    "    ```bash\n",
    "    export REPLICATE_API_TOKEN=\"YOUR_API_TOKEN_HERE\"\n",
    "    ```\n",
    "\n",
    "3. Run the code: Execute the Python script or Jupyter notebook containing the provided code snippets.\n",
    "\n",
    "## Functionality\n",
    "\n",
    "1. **Similarity Search**: The code performs similarity search using Pinecone, allowing you to find relevant context based on a given query.\n",
    "\n",
    "2. **Text Embedding**: Sentence Transformers are used to generate embeddings for the input text.\n",
    "\n",
    "3. **Text Generation**: Replicate is utilized for generating engaging advertisements targeted at travelers based on the context retrieved from the similarity search.\n",
    "\n",
    "## License\n",
    "\n",
    "This code is provided under the [MIT License](LICENSE). Feel free to modify and distribute it according to your needs."
   ]
  },
  {
   "cell_type": "code",
   "execution_count": 13,
   "id": "8b318169",
   "metadata": {},
   "outputs": [],
   "source": [
    "import warnings\n",
    "warnings.filterwarnings('ignore')"
   ]
  },
  {
   "cell_type": "code",
   "execution_count": 16,
   "id": "5b7e5e18",
   "metadata": {},
   "outputs": [],
   "source": [
    "from pinecone import Pinecone\n",
    "from pinecone import ServerlessSpec, PodSpec\n",
    "import os\n",
    "\n",
    "pc = Pinecone(api_key=\"YOUR_API_KEY_HERE\")\n",
    "index = pc.Index(\"tourist-index\")"
   ]
  },
  {
   "cell_type": "code",
   "execution_count": 35,
   "id": "6889cdc6",
   "metadata": {},
   "outputs": [],
   "source": [
    "# small helper function so we can repeat queries later\n",
    "def run_query(query):\n",
    "    embedding = create_vector(query)\n",
    "    results = index.query(top_k=3, vector=embedding, include_metadata=True, include_values=False)\n",
    "    context = []\n",
    "    for result in results['matches']:\n",
    "        if round(result['score'], 2) > 0.5:\n",
    "            context.append(result['metadata']['text'])\n",
    "    return \"\\n\".join(context)"
   ]
  },
  {
   "cell_type": "code",
   "execution_count": 15,
   "id": "c48697f7",
   "metadata": {},
   "outputs": [],
   "source": [
    "from sentence_transformers import SentenceTransformer\n",
    "import torch\n",
    "\n",
    "embedding_model = SentenceTransformer('sentence-transformers/all-MiniLM-L6-v2')\n",
    "def create_vector(query, n_results=3):\n",
    "    \n",
    "    return embedding_model.encode(query).tolist()"
   ]
  },
  {
   "cell_type": "code",
   "execution_count": null,
   "id": "e18a1be5",
   "metadata": {},
   "outputs": [],
   "source": []
  },
  {
   "cell_type": "code",
   "execution_count": 38,
   "id": "d40c2080",
   "metadata": {},
   "outputs": [],
   "source": [
    "query = \"I like to visit historical places what are my options?\"\n",
    "context = run_query(query)"
   ]
  },
  {
   "cell_type": "code",
   "execution_count": 4,
   "id": "9bf9ad1f",
   "metadata": {},
   "outputs": [],
   "source": [
    "import replicate\n",
    "import os"
   ]
  },
  {
   "cell_type": "code",
   "execution_count": 5,
   "id": "99fdfdc1",
   "metadata": {},
   "outputs": [],
   "source": [
    "os.environ[\"REPLICATE_API_TOKEN\"] = \"YOUR_API_TOKEN_HERE\""
   ]
  },
  {
   "cell_type": "code",
   "execution_count": null,
   "id": "6f33533e",
   "metadata": {},
   "outputs": [],
   "source": []
  },
  {
   "cell_type": "code",
   "execution_count": null,
   "id": "3691f6af",
   "metadata": {},
   "outputs": [],
   "source": []
  },
  {
   "cell_type": "code",
   "execution_count": 71,
   "id": "6581588e",
   "metadata": {},
   "outputs": [
    {
     "data": {
      "text/plain": [
       "\"[INST] <<SYS>>Use the context to generate an interesting and captivating advertisement to travelers.\\nContext: Step back in time and explore the rich history of London, one of the world's most iconic cities. Visit historic landmarks like the Tower of London, Buckingham Palace, and Westminster Abbey, where you can trace the footsteps of kings, queens, and political leaders. Explore the city's world-class museums and galleries, including the British Museum, Tate Modern, and National Gallery, which showcase treasures from around the world. Wander through charming neighborhoods like Covent Garden and Notting Hill, where you'll find historic pubs, quaint cafes, and bustling markets. With its blend of ancient traditions and modern innovation, London offers a wealth of historical sites and cultural experiences for visitors to enjoy.\\n<</SYS>>\\nI like to visit historical places what are my options?[/INST]\""
      ]
     },
     "execution_count": 71,
     "metadata": {},
     "output_type": "execute_result"
    }
   ],
   "source": [
    "from langchain.prompts import PromptTemplate\n",
    "\n",
    "prompt_template = f\"\"\"[INST] <<SYS>>\\\n",
    "Use the context to generate an interesting and captivating advertisement to travelers.\n",
    "Context: {context}\n",
    "<</SYS>>\n",
    "{query}[/INST]\"\"\"\n",
    "\n",
    "# Create prompt from prompt template \n",
    "prompt_template"
   ]
  },
  {
   "cell_type": "code",
   "execution_count": 74,
   "id": "ab638d35",
   "metadata": {},
   "outputs": [
    {
     "name": "stdout",
     "output_type": "stream",
     "text": [
      "\n",
      "\n",
      "\n",
      "\n",
      "\n",
      "Are you ready to step back in time and explore the rich history of one of the world's most iconic cities? Look no further than London, a city that seamlessly blends ancient traditions with modern innovation.\n",
      "\n",
      "Immerse yourself in the city's storied past by visiting historic landmarks like the Tower of London, Buckingham Palace, and Westminster Abbey. These majestic buildings have witnessed countless significant events throughout history, and offer visitors a chance to trace the footsteps of kings, queens, and political leaders.\n",
      "\n",
      "But London's historical significance doesn't stop at its famous landmarks. The city is also home to an array of world-class museums and galleries, showcasing treasures from around the world. Discover artifacts from ancient civilizations at the British Museum, marvel at contemporary art at Tate Modern, or admire some of the greatest works of art in human history at the National Gallery.\n",
      "\n",
      "When you need a break from the hustle and bustle of sightseeing, wander through charming neighborhoods like Covent Garden and Notting Hill. Here, you'll find historic pubs, quaint cafes, and bustling markets that perfectly capture London's unique charm.\n",
      "\n",
      "Whether you're a history buff, an art lover, or simply looking for a new adventure, London has something for everyone. So why wait? Book your trip today and experience all that this incredible city has to offer!"
     ]
    }
   ],
   "source": [
    "output = replicate.stream(\n",
    "  \"meta/llama-2-70b-chat\",\n",
    "  input={\n",
    "        \"debug\": False,\n",
    "#         \"top_k\": 50,\n",
    "#         \"top_p\": 1,\n",
    "#         \"temperature\": 0.75,\n",
    "        \"max_new_tokens\": 500,\n",
    "        \"prompt\": prompt_template,\n",
    "    },\n",
    ")\n",
    "for s in output:\n",
    "    print(s, end=\"\", flush=False)"
   ]
  },
  {
   "cell_type": "code",
   "execution_count": null,
   "id": "eca4dd85",
   "metadata": {},
   "outputs": [],
   "source": []
  }
 ],
 "metadata": {
  "kernelspec": {
   "display_name": "Python 3 (ipykernel)",
   "language": "python",
   "name": "python3"
  },
  "language_info": {
   "codemirror_mode": {
    "name": "ipython",
    "version": 3
   },
   "file_extension": ".py",
   "mimetype": "text/x-python",
   "name": "python",
   "nbconvert_exporter": "python",
   "pygments_lexer": "ipython3",
   "version": "3.11.4"
  }
 },
 "nbformat": 4,
 "nbformat_minor": 5
}
